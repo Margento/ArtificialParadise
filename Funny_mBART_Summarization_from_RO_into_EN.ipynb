{
 "cells": [
  {
   "cell_type": "code",
   "execution_count": 1,
   "id": "44aa79c7-9135-42f6-a3f7-01d02567701b",
   "metadata": {},
   "outputs": [
    {
     "name": "stdout",
     "output_type": "stream",
     "text": [
      "Requirement already satisfied: transformers in ./.3918project/lib/python3.9/site-packages (4.52.4)\n",
      "Requirement already satisfied: sentencepiece in ./.3918project/lib/python3.9/site-packages (0.2.0)\n",
      "Requirement already satisfied: torch in ./.3918project/lib/python3.9/site-packages (2.7.0)\n",
      "Requirement already satisfied: filelock in ./.3918project/lib/python3.9/site-packages (from transformers) (3.18.0)\n",
      "Requirement already satisfied: huggingface-hub<1.0,>=0.30.0 in ./.3918project/lib/python3.9/site-packages (from transformers) (0.33.0)\n",
      "Requirement already satisfied: numpy>=1.17 in ./.3918project/lib/python3.9/site-packages (from transformers) (1.22.4)\n",
      "Requirement already satisfied: packaging>=20.0 in ./.3918project/lib/python3.9/site-packages (from transformers) (25.0)\n",
      "Requirement already satisfied: pyyaml>=5.1 in ./.3918project/lib/python3.9/site-packages (from transformers) (6.0.2)\n",
      "Requirement already satisfied: regex!=2019.12.17 in ./.3918project/lib/python3.9/site-packages (from transformers) (2024.11.6)\n",
      "Requirement already satisfied: requests in ./.3918project/lib/python3.9/site-packages (from transformers) (2.32.4)\n",
      "Requirement already satisfied: tokenizers<0.22,>=0.21 in ./.3918project/lib/python3.9/site-packages (from transformers) (0.21.1)\n",
      "Requirement already satisfied: safetensors>=0.4.3 in ./.3918project/lib/python3.9/site-packages (from transformers) (0.5.3)\n",
      "Requirement already satisfied: tqdm>=4.27 in ./.3918project/lib/python3.9/site-packages (from transformers) (4.67.1)\n",
      "Requirement already satisfied: fsspec>=2023.5.0 in ./.3918project/lib/python3.9/site-packages (from huggingface-hub<1.0,>=0.30.0->transformers) (2025.5.1)\n",
      "Requirement already satisfied: typing-extensions>=3.7.4.3 in ./.3918project/lib/python3.9/site-packages (from huggingface-hub<1.0,>=0.30.0->transformers) (4.14.0)\n",
      "Requirement already satisfied: hf-xet<2.0.0,>=1.1.2 in ./.3918project/lib/python3.9/site-packages (from huggingface-hub<1.0,>=0.30.0->transformers) (1.1.3)\n",
      "Requirement already satisfied: sympy>=1.13.3 in ./.3918project/lib/python3.9/site-packages (from torch) (1.14.0)\n",
      "Requirement already satisfied: networkx in ./.3918project/lib/python3.9/site-packages (from torch) (2.6.3)\n",
      "Requirement already satisfied: jinja2 in ./.3918project/lib/python3.9/site-packages (from torch) (3.1.6)\n",
      "Requirement already satisfied: mpmath<1.4,>=1.1.0 in ./.3918project/lib/python3.9/site-packages (from sympy>=1.13.3->torch) (1.3.0)\n",
      "Requirement already satisfied: MarkupSafe>=2.0 in ./.3918project/lib/python3.9/site-packages (from jinja2->torch) (3.0.2)\n",
      "Requirement already satisfied: charset_normalizer<4,>=2 in ./.3918project/lib/python3.9/site-packages (from requests->transformers) (3.4.2)\n",
      "Requirement already satisfied: idna<4,>=2.5 in ./.3918project/lib/python3.9/site-packages (from requests->transformers) (3.10)\n",
      "Requirement already satisfied: urllib3<3,>=1.21.1 in ./.3918project/lib/python3.9/site-packages (from requests->transformers) (2.4.0)\n",
      "Requirement already satisfied: certifi>=2017.4.17 in ./.3918project/lib/python3.9/site-packages (from requests->transformers) (2025.4.26)\n"
     ]
    }
   ],
   "source": [
    "\n",
    "!pip install transformers sentencepiece torch\n"
   ]
  },
  {
   "cell_type": "code",
   "execution_count": 2,
   "id": "d810d399-fcb4-4e85-83de-65481b79d489",
   "metadata": {},
   "outputs": [
    {
     "name": "stderr",
     "output_type": "stream",
     "text": [
      "/Users/raluca/myproject/.venv/lib/python3.9/site-packages/tqdm/auto.py:21: TqdmWarning: IProgress not found. Please update jupyter and ipywidgets. See https://ipywidgets.readthedocs.io/en/stable/user_install.html\n",
      "  from .autonotebook import tqdm as notebook_tqdm\n"
     ]
    }
   ],
   "source": [
    "\n",
    "from transformers import MBartForConditionalGeneration, MBart50TokenizerFast\n",
    "import torch\n",
    "\n",
    "device = torch.device(\"mps\" if torch.backends.mps.is_available() else \"cpu\")"
   ]
  },
  {
   "cell_type": "code",
   "execution_count": 3,
   "id": "544ad897-4a1a-4f6c-aaec-65f7a1b6b2a6",
   "metadata": {},
   "outputs": [],
   "source": [
    "\n",
    "model_name = \"facebook/mbart-large-50-many-to-many-mmt\"\n",
    "tokenizer = MBart50TokenizerFast.from_pretrained(model_name)\n",
    "model = MBartForConditionalGeneration.from_pretrained(model_name).to(device)"
   ]
  },
  {
   "cell_type": "code",
   "execution_count": 4,
   "id": "5a3d9973-5090-417e-9bbe-368a6fd93c70",
   "metadata": {},
   "outputs": [],
   "source": [
    "\n",
    "def summarize_romance_text_mbart(text: str, max_tokens: int = 300) -> str:\n",
    "    tokenizer.src_lang = \"ro_RO\"   # Romanian input\n",
    "    inputs = tokenizer(text, return_tensors=\"pt\", truncation=True, max_length=512).to(device)\n",
    "\n",
    "    # Set target language for generation\n",
    "    generated_tokens = model.generate(\n",
    "        **inputs,\n",
    "        forced_bos_token_id=tokenizer.lang_code_to_id[\"en_XX\"],  # English output\n",
    "        max_length=max_tokens,\n",
    "        num_beams=4,\n",
    "        early_stopping=True\n",
    "    )\n",
    "\n",
    "    return tokenizer.batch_decode(generated_tokens, skip_special_tokens=True)[0].strip()"
   ]
  },
  {
   "cell_type": "code",
   "execution_count": 6,
   "id": "6e570243-2272-4dd9-a8f0-74476d2c3485",
   "metadata": {},
   "outputs": [],
   "source": [
    "\n",
    "text = \"\"\"\n",
    "Al treilea Program | 1968\n",
    "[…] De curând, am tradus poezie amerindiană (inclusiv silabe “fără sens”, cuvinte distorsionate & muzică) & mi-am explorat propriile surse ancestrale din lumea misticilor, hoţilor & nebunilor evrei.\n",
    "Cred că în poezie totul este posibil & că încercările noastre anterioare de a o defini, „occidentale”, reprezintă un eşec de percepţie care nu mai trebuie tolerat.\n",
    "\"\"\""
   ]
  },
  {
   "cell_type": "code",
   "execution_count": 7,
   "id": "51df45e2-a887-4316-ba3d-3bd39ba8ecc4",
   "metadata": {},
   "outputs": [
    {
     "name": "stderr",
     "output_type": "stream",
     "text": [
      "/Users/raluca/myproject/.venv/lib/python3.9/site-packages/transformers/pytorch_utils.py:328: UserWarning: To copy construct from a tensor, it is recommended to use sourceTensor.clone().detach() or sourceTensor.clone().detach().requires_grad_(True), rather than torch.tensor(sourceTensor).\n",
      "  test_elements = torch.tensor(test_elements)\n"
     ]
    },
    {
     "name": "stdout",
     "output_type": "stream",
     "text": [
      "Summary: Third Program | 1968 [...] Recently, I have translated Amerindian poetry (including \"no-sense\" syllables, distorted words & music) & explored my own ancestral sources in the world of mystics, hobbits & Jewish madmen. I believe that in poetry everything is possible & that our earlier attempts to define it as \"Western\" represent a failure of perception that must no longer be tolerated.\n"
     ]
    }
   ],
   "source": [
    "\n",
    "summary = summarize_romance_text_mbart(text)\n",
    "print(\"Summary:\", summary)"
   ]
  },
  {
   "cell_type": "code",
   "execution_count": null,
   "id": "eb459017-f078-46a8-8a5c-4cf0e9436fbe",
   "metadata": {},
   "outputs": [],
   "source": []
  }
 ],
 "metadata": {
  "kernelspec": {
   "display_name": "Python (myproject)",
   "language": "python",
   "name": "myproject"
  },
  "language_info": {
   "codemirror_mode": {
    "name": "ipython",
    "version": 3
   },
   "file_extension": ".py",
   "mimetype": "text/x-python",
   "name": "python",
   "nbconvert_exporter": "python",
   "pygments_lexer": "ipython3",
   "version": "3.9.21"
  }
 },
 "nbformat": 4,
 "nbformat_minor": 5
}
