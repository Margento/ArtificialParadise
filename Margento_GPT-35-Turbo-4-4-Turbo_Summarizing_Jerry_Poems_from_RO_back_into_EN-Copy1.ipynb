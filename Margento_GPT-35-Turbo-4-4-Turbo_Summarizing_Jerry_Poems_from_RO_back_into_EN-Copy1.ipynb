{
 "cells": [
  {
   "cell_type": "code",
   "execution_count": 1,
   "id": "c3771709-0467-4929-a4f3-e59baaaea02c",
   "metadata": {},
   "outputs": [],
   "source": [
    "\n",
    "\n",
    "from openai import OpenAI\n",
    "client = OpenAI(api_key = \"YOUR_KEY\")"
   ]
  },
  {
   "cell_type": "code",
   "execution_count": 4,
   "id": "8ab99843-abbb-4344-996f-aed3420cefbd",
   "metadata": {},
   "outputs": [],
   "source": [
    "\n",
    "# GPT-3.5-TURBO\n",
    "def summarize_romance_text(text: str, model: str = \"gpt-3.5-turbo\") -> str:\n",
    "    \"\"\"\n",
    "    Summarizes a Romance-language text (e.g., Romanian, French) into English.\n",
    "\n",
    "    Args:\n",
    "        text (str): The original text in a Romance language.\n",
    "        model (str): The OpenAI model to use (default: \"gpt-3.5-turbo).\n",
    "\n",
    "    Returns:\n",
    "        str: The English summary.\n",
    "    \"\"\"\n",
    "    response = client.chat.completions.create(\n",
    "        model=model,\n",
    "        messages=[\n",
    "            {\"role\": \"system\", \"content\": \"You summarize Romance-language texts into concise English summaries.\"},\n",
    "            {\"role\": \"user\", \"content\": text}\n",
    "        ],\n",
    "        temperature=0.5,\n",
    "        max_tokens=300\n",
    "    )\n",
    "\n",
    "    return response.choices[0].message.content.strip()\n"
   ]
  },
  {
   "cell_type": "code",
   "execution_count": 5,
   "id": "8dabaca9-db74-4ed7-ad60-47795d8318f8",
   "metadata": {},
   "outputs": [],
   "source": [
    "\n",
    "poem = \"\"\"\n",
    "o Shekina o tu floarea mea covârşită\n",
    "margareta mea basarabeană călcată de cizmele străinilor\n",
    "cazacii şi-au plesnit pulele peste tine\n",
    "pe coapsele tale au dormit generaţii de tătari\n",
    "ce exiluri amare te-au adus în patul ăsta\n",
    "în așternutul de piele zbârcită-n aerul Poloniei…\n",
    "\"\"\""
   ]
  },
  {
   "cell_type": "code",
   "execution_count": 6,
   "id": "382ea9b3-8856-41a1-8267-774db4ad7a94",
   "metadata": {},
   "outputs": [
    {
     "name": "stdout",
     "output_type": "stream",
     "text": [
      "Summary: The text describes a woman, symbolized as a flower, who has faced hardships and exiles, including being trampled by strangers and having generations of Tatars rest on her thighs.\n"
     ]
    }
   ],
   "source": [
    "\n",
    "summary = summarize_romance_text(poem)\n",
    "print(\"Summary:\", summary)"
   ]
  },
  {
   "cell_type": "code",
   "execution_count": null,
   "id": "3f4cc320-8443-4c1c-9353-876f6a9c1aba",
   "metadata": {},
   "outputs": [],
   "source": []
  },
  {
   "cell_type": "code",
   "execution_count": 8,
   "id": "0dca4143-7cba-4728-9407-e8415a1739b0",
   "metadata": {},
   "outputs": [],
   "source": [
    "\n",
    "# GPT-4\n",
    "def summarize_romance_text_1(text: str, model: str = \"gpt-4\") -> str:\n",
    "    \"\"\"\n",
    "    Summarizes a Romance-language text (e.g., Romanian, French) into English.\n",
    "\n",
    "    Args:\n",
    "        text (str): The original text in a Romance language.\n",
    "        model (str): The OpenAI model to use (default: \"gpt-4\").\n",
    "\n",
    "    Returns:\n",
    "        str: The English summary.\n",
    "    \"\"\"\n",
    "    response = client.chat.completions.create(\n",
    "        model=model,\n",
    "        messages=[\n",
    "            {\"role\": \"system\", \"content\": \"You summarize Romance-language texts into concise English summaries.\"},\n",
    "            {\"role\": \"user\", \"content\": text}\n",
    "        ],\n",
    "        temperature=0.5,\n",
    "        max_tokens=300\n",
    "    )\n",
    "\n",
    "    return response.choices[0].message.content.strip()"
   ]
  },
  {
   "cell_type": "code",
   "execution_count": 7,
   "id": "12ff8510-25dc-4fea-a5b4-adc9554b5b34",
   "metadata": {},
   "outputs": [],
   "source": [
    "poem_1 = \"\"\"\n",
    "În vis 3000 de femei dezbrăcate țipă/ de durere. E imposibil să le numeri și totuși el/ o face. Trupurile lor se vor folosi/ pentru aprinderea focului, iar sângele pentru combustibil./ […]//\n",
    "În Polonia, abia, mi-am dat seama că eram bântuit./ Da. – În mine e un dibbuk. E-un dibbuk în mine.../ În starea asta vom rămâne patruzeci/ de ani de-acum încolo. Hijikata/ ne-o confirmă – poezia e vorbirea stafiilor. Șamanii/ de la tine din carte o confirmă și ei. De la mine din carte,/ am vrut să spun. Dar n-am spus.\n",
    "\"\"\""
   ]
  },
  {
   "cell_type": "code",
   "execution_count": 9,
   "id": "b1f4587f-64eb-4cb6-b29d-39a4b06ff6a8",
   "metadata": {},
   "outputs": [
    {
     "name": "stdout",
     "output_type": "stream",
     "text": [
      "Summary: In a dream, 3000 naked women scream in pain. It's impossible to count them, yet he does. Their bodies will be used to light a fire, their blood as fuel. In Poland, I realized I was haunted. Yes - there's a dibbuk in me. We will remain in this state for the next forty years. Hijikata confirms - poetry is the speech of ghosts. The shamans from your book confirm it too. I meant from my book, but I didn't say it.\n"
     ]
    }
   ],
   "source": [
    "\n",
    "summary_1 = summarize_romance_text_1(poem_1)\n",
    "print(\"Summary:\", summary_1)"
   ]
  },
  {
   "cell_type": "code",
   "execution_count": 16,
   "id": "ffcdb92a-7e83-4e39-8f24-0d7477133375",
   "metadata": {},
   "outputs": [],
   "source": [
    "\n",
    "\n",
    "# GPT-4-TURBO\n",
    "def summarize_romance_text_2(text: str, model: str = \"gpt-4-turbo\") -> str:\n",
    "    \"\"\"\n",
    "    Summarizes a Romance-language text (e.g., Romanian, French) into English.\n",
    "\n",
    "    Returns:\n",
    "        str: The English summary.\n",
    "    \"\"\"\n",
    "    response = client.chat.completions.create(\n",
    "        model=model,\n",
    "        messages=[\n",
    "            {\"role\": \"system\", \"content\": \"You summarize Romance-language texts into concise English summaries.\"},\n",
    "            {\"role\": \"user\", \"content\": text}\n",
    "        ],\n",
    "        temperature=0.5,\n",
    "        max_tokens=300\n",
    "    )\n",
    "\n",
    "    return response.choices[0].message.content.strip()\n"
   ]
  },
  {
   "cell_type": "code",
   "execution_count": 11,
   "id": "bc3da4ed-3644-4f14-b25b-518b39e780c2",
   "metadata": {},
   "outputs": [],
   "source": [
    "\n",
    "poem_2 = \"\"\"\n",
    "Puterea morţilor\n",
    "Aur caută ea/ sau ceva mai tare,/ puterea morţilor/ de-a schimba lumea?/ O hulă. O pilulă./ Ce cântec cânta ea?/ O uşă/ nu-i o uşă/ până nu iese/ un mort pe ea/ şi nu rămâne holbată, cruciﬁcată/ într-o zi sângerie. (F.G. Lorca)\n",
    "\"\"\""
   ]
  },
  {
   "cell_type": "code",
   "execution_count": 12,
   "id": "6eadb45c-b145-464f-bbca-156e7c3ec063",
   "metadata": {},
   "outputs": [
    {
     "name": "stdout",
     "output_type": "stream",
     "text": [
      "Summary: In the poem \"Puterea morţilor\" by F.G. Lorca, the speaker questions whether a woman is seeking gold or something more powerful, specifically the power of the dead to change the world. The poem reflects on the profound impact of the dead, symbolized by a door that does not become a door until a dead person exits through it and remains transfixed, suggesting a moment of intense, transformative revelation.\n"
     ]
    }
   ],
   "source": [
    "\n",
    "summary_2 = summarize_romance_text_2(poem_2)\n",
    "print(\"Summary:\", summary_2)"
   ]
  },
  {
   "cell_type": "code",
   "execution_count": 14,
   "id": "124a2f23-9418-4b4d-b071-28b33e604e6a",
   "metadata": {},
   "outputs": [],
   "source": [
    "\n",
    "poem_3 = \"\"\"\n",
    "stapân al casei/ jidan gras bătrân/ striga baal numele vechiului/ rege/ cu degetele/ înflorindu-i în ţărână flori întunecate/ acoperind balustrade/ femei cu batice albe/ alergând să le taie de-acolo/ era epuizat/ după ce-o pocnise în coastă de-o luase dracu’/ azi-noapte/ spărgându-şi dinţii de băţoasele albele/ buci/ urlând „putere” „putere”/ încercase să-i desfacă curul/ să intre-n ambele locuri de-odată/ în numele domnului/ sau chemând nume/ ascunse uitate/ pentru al căror secret un bărbat şi-ar da viaţa/ scuipând peste gaură/ tremura/ aştepta mâna ei/ să-l găsească/ „cum te pot iubi, becky/ dulce rebecă/ rifcă/ scoborâtă dintr-un lung şir de rabini lublinezi/ roză a dispersiei/ iuh-buh-buh-bum”/ vederea propriului penis/ îi făcea greaţă/ broasca râioasă umflată/ ce i se ghemuise pe burtă/ fără dinţi/ pufnind/ zgâlţâindu-se/ mâna ei a-nşfăcat-o ca pe-un gât de gâscă/ şi-i lingea gura roşie cu limba ei de vacă/ mormăind „mire”/ „fudulii de porc”/ „mic felinar al dragostei”/ osana!/…\n",
    "\"\"\""
   ]
  },
  {
   "cell_type": "code",
   "execution_count": 17,
   "id": "253b2c6a-9aa1-4c9b-9c5d-94ffbe2d3f66",
   "metadata": {},
   "outputs": [
    {
     "name": "stdout",
     "output_type": "stream",
     "text": [
      "Summary: The master of the house, an old, fat man, is calling out an ancient name, \"Baal,\" as he covers the balustrades with dark flowers emerging from his fingers in the soil. Women with white headscarves rush to cut them off. Exhausted from the previous night's violence, where he hit a woman so hard she was knocked away, breaking her teeth against his white buttocks while shouting \"power,\" he attempted to violate her further in the name of the Lord or invoking forgotten names worth dying for. As he spits and waits tremblingly for her touch, he questions how he can love Becky, sweet Rebecca, descended from a long line of Lublin rabbis, a rose of the diaspora, disgusted by the sight of his own genitalia, which appears to him as a bloated, toothless toad on his stomach. Finally, her hand grabs it like a goose's neck, and she licks his mouth with her cow-like tongue, murmuring endearments and insults, culminating in a sarcastic exclamation of praise.\n"
     ]
    }
   ],
   "source": [
    "summary_3 = summarize_romance_text_2(poem_3)\n",
    "print(\"Summary:\", summary_3)"
   ]
  },
  {
   "cell_type": "code",
   "execution_count": null,
   "id": "fe64d84e-927d-4394-82d5-64583edfa8fc",
   "metadata": {},
   "outputs": [],
   "source": []
  },
  {
   "cell_type": "code",
   "execution_count": 18,
   "id": "2ac61d27-acd4-4fe9-8676-beaa77b5f1cf",
   "metadata": {},
   "outputs": [
    {
     "name": "stdout",
     "output_type": "stream",
     "text": [
      "Summary: The text depicts an old, fat man who seems to be the master of the house, invoking the name of an ancient king. He is tired and appears to have been violent the night before. He is repulsed by his own body, waiting for the touch of a woman named Becky. The woman, who is hinted to be of Jewish descent, handles him roughly and speaks to him in crude terms. The text is full of dark, sexual, and somewhat grotesque imagery.\n"
     ]
    }
   ],
   "source": [
    "summary_4 = summarize_romance_text_1(poem_3)\n",
    "print(\"Summary:\", summary_4)"
   ]
  },
  {
   "cell_type": "code",
   "execution_count": null,
   "id": "2b1181d7-ed06-4019-9e4e-866f93aec9c9",
   "metadata": {},
   "outputs": [],
   "source": []
  }
 ],
 "metadata": {
  "kernelspec": {
   "display_name": "Python (3918project)",
   "language": "python",
   "name": "3918project"
  },
  "language_info": {
   "codemirror_mode": {
    "name": "ipython",
    "version": 3
   },
   "file_extension": ".py",
   "mimetype": "text/x-python",
   "name": "python",
   "nbconvert_exporter": "python",
   "pygments_lexer": "ipython3",
   "version": "3.9.18"
  }
 },
 "nbformat": 4,
 "nbformat_minor": 5
}
