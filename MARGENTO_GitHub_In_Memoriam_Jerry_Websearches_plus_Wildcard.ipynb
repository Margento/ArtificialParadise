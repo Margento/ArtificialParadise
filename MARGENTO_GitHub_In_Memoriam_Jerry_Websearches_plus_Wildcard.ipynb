{
 "cells": [
  {
   "cell_type": "code",
   "execution_count": 1,
   "id": "9525fe84-da61-4162-95f4-41254c5dd92a",
   "metadata": {},
   "outputs": [],
   "source": [
    "import duckduckgo_search"
   ]
  },
  {
   "cell_type": "code",
   "execution_count": 2,
   "id": "1b703ee5-786b-4846-ac15-142dc508cf1a",
   "metadata": {},
   "outputs": [],
   "source": [
    "from duckduckgo_search import DDGS"
   ]
  },
  {
   "cell_type": "code",
   "execution_count": 3,
   "id": "4db504fb-d4e6-4b83-8c4b-83e4f6a2a746",
   "metadata": {},
   "outputs": [
    {
     "name": "stderr",
     "output_type": "stream",
     "text": [
      "/Users/raluca/3918project/.3918project/lib/python3.9/site-packages/tqdm/auto.py:21: TqdmWarning: IProgress not found. Please update jupyter and ipywidgets. See https://ipywidgets.readthedocs.io/en/stable/user_install.html\n",
      "  from .autonotebook import tqdm as notebook_tqdm\n"
     ]
    }
   ],
   "source": [
    "from sentence_transformers import SentenceTransformer, util"
   ]
  },
  {
   "cell_type": "code",
   "execution_count": 4,
   "id": "ee0a0b00-2b42-4708-9019-c2064978da93",
   "metadata": {},
   "outputs": [],
   "source": [
    "\n",
    "participants = [\n",
    "    \"Peter Manson\",\n",
    "    \"Matthew Rothenberg\",\n",
    "    \"Jeffrey Robinson\",\n",
    "    \"Peter Middleton\",\n",
    "    \"Allen Fisher\",\n",
    "    \"Maggie O’Sullivan\",\n",
    "    \"Phil Davenport\",\n",
    "    \"Nia Davies\",\n",
    "    \"Rachel Robinson\",\n",
    "    \"Cecilia Vicuña\",\n",
    "    \"Nicky Melville\",\n",
    "    \"Calum Roger\",\n",
    "    \"Maria Sledmere\",\n",
    "    \"Jane Goldman\",\n",
    "    \"Gerrie Fellows\",\n",
    "    \"Jeff Hilson\",\n",
    "    \"Rebecca Kosick\",\n",
    "    \"Margento\",\n",
    "    \"Tom Pickard\",\n",
    "    \"Jèssica Pujol Duran\",\n",
    "    \"Will Rowe\",\n",
    "    \"Zoe Skoulding\",\n",
    "    \"Rhys Trimble\",\n",
    "    \"Carol Watts\",\n",
    "    \"Javier Taboada\",\n",
    "    \"Scott Thurston\",\n",
    "    \"John Coyle\",\n",
    "    \"Robert Sheppard\",\n",
    "    \"MontenegroFisher\",\n",
    "    \"Martín Gubbins\",\n",
    "    \"Juan Carlos Villavicencio\",\n",
    "    \"Tamara de Inés Antón\",\n",
    "    \"Chris Tanasescu\",\n",
    "    \"Felipe Cussen\",\n",
    "    \"Colin Still\",\n",
    "    \"Diane Rothenberg\", # added by me\n",
    "]"
   ]
  },
  {
   "cell_type": "code",
   "execution_count": 39,
   "id": "8c70481a-1359-42e2-bb75-a2eefc1e289a",
   "metadata": {},
   "outputs": [],
   "source": [
    "wild_card = \"Diane Rothenberg [NOT] feeling left out of a Paradise of Poets\""
   ]
  },
  {
   "cell_type": "code",
   "execution_count": 5,
   "id": "440da090-0ba9-4605-85e6-a2c8eb93cfd9",
   "metadata": {},
   "outputs": [],
   "source": [
    "\n",
    "names = participants\n",
    "\n",
    "NUM_RESULTS = 16 \n",
    "SIMILARITY_THRESHOLD_0 = 0.3\n",
    "#SIMILARITY_THRESHOLD_1 = 0.6\n",
    "\n",
    "# --- Models ---\n",
    "model = SentenceTransformer('all-MiniLM-L6-v2')"
   ]
  },
  {
   "cell_type": "code",
   "execution_count": 51,
   "id": "8ec63d57-6d64-4234-be33-10ef639cb583",
   "metadata": {},
   "outputs": [],
   "source": [
    "SIMILARITY_THRESHOLD_1 = 0.5"
   ]
  },
  {
   "cell_type": "code",
   "execution_count": 40,
   "id": "61028918-5db1-4429-9d6c-23b4f1b8060f",
   "metadata": {},
   "outputs": [],
   "source": [
    "\n",
    "wild_card_embedding = model.encode(wild_card, convert_to_tensor=True)"
   ]
  },
  {
   "cell_type": "code",
   "execution_count": null,
   "id": "978a22a6-10dc-4a96-8c1c-4377b3bbc822",
   "metadata": {},
   "outputs": [],
   "source": [
    "\n",
    "import time\n",
    "nodes = []\n",
    "edges = []\n",
    "\n",
    "# --- Search and Node Creation ---\n",
    "# with DDGS() as ddgs:\n",
    "node_id = 0\n",
    "for name in names:\n",
    "        query = f'\"{name}\"' if ' ' in name else name\n",
    "        results = DDGS().text(query, max_results=NUM_RESULTS)\n",
    "        for res in results:\n",
    "            snippet = res.get(\"body\")\n",
    "            if snippet:\n",
    "                embedding = model.encode(snippet, convert_to_tensor=True)\n",
    "                nodes.append({\n",
    "                    \"id\": node_id,\n",
    "                    \"text\": snippet,\n",
    "                    \"name\": name,\n",
    "                    \"embedding\": embedding\n",
    "                })\n",
    "                node_id += 1"
   ]
  },
  {
   "cell_type": "code",
   "execution_count": null,
   "id": "fe81af14-1c1a-414a-98d2-dd2285be21f7",
   "metadata": {},
   "outputs": [],
   "source": [
    "\n",
    "# DYNAMICALLY UPDATING SEARCH RESULTS\n",
    "\n",
    "def collect_data():\n",
    "    global nodes\n",
    "    node_id = len(nodes)  # Continue node_id from previous session\n",
    "    with DDGS() as ddgs:\n",
    "        for name in names:\n",
    "            query = f'\"{name}\"' if ' ' in name else name\n",
    "            results = ddgs.text(query, max_results=NUM_RESULTS)\n",
    "            for res in results:\n",
    "                snippet = res.get(\"body\")\n",
    "                if snippet:\n",
    "                    embedding = model.encode(snippet, convert_to_tensor=True)\n",
    "                    nodes.append({\n",
    "                        \"id\": node_id,\n",
    "                        \"text\": snippet,\n",
    "                        \"name\": name,\n",
    "                        \"embedding\": embedding\n",
    "                    })\n",
    "                    node_id += 1\n"
   ]
  },
  {
   "cell_type": "code",
   "execution_count": null,
   "id": "f7aa3fac-b2e2-4dea-905f-60a72df17666",
   "metadata": {},
   "outputs": [],
   "source": [
    "!pip install schedule"
   ]
  },
  {
   "cell_type": "code",
   "execution_count": null,
   "id": "65c53f09-6f38-4cc9-945e-5ecc6ace25e2",
   "metadata": {},
   "outputs": [],
   "source": [
    "\n",
    "import schedule\n",
    "# import time\n",
    "\n",
    "def monthly_job():\n",
    "    today = datetime.date.today()\n",
    "    if today.day == 1:  # Run only on the 1st of each month\n",
    "        collect_data()\n",
    "\n",
    "schedule.every().day.at(\"09:00\").do(monthly_job)\n",
    "\n",
    "while True:\n",
    "    schedule.run_pending()\n",
    "    time.sleep(5)\n"
   ]
  },
  {
   "cell_type": "code",
   "execution_count": 7,
   "id": "2250d0d6-0d77-42ae-a981-c43bae9f2644",
   "metadata": {},
   "outputs": [
    {
     "data": {
      "text/plain": [
       "435"
      ]
     },
     "execution_count": 7,
     "metadata": {},
     "output_type": "execute_result"
    }
   ],
   "source": [
    "\n",
    "len(nodes)"
   ]
  },
  {
   "cell_type": "code",
   "execution_count": 9,
   "id": "dce2c75f-2533-4fdb-a0ac-6228d179560c",
   "metadata": {},
   "outputs": [
    {
     "name": "stdout",
     "output_type": "stream",
     "text": [
      "Official website of East Coast-based actor and filmmaker Dianne Rothenberg. SAG • AFTRA; AEA.DIANNE ROTHENBERG OFFICIALACTOR | …I am very excited to have …DIANNE ROTHENBERG ACTOR | …See Dianne in her tv and film …\n",
      "Diane Rothenberg's own book, Mothers of the Nation, in which this essay also appeared, was published by Pierre Joris's Ta’wil Books in the same year, & a newly revised & expanded edition …\n",
      "-- · Education: Fordham University · Location: 10128. View Diane Rothenberg’s profile on LinkedIn, a professional community of 1 billion members.\n",
      "Diane Rothenberg is on Facebook. Join Facebook to connect with Diane Rothenberg and others you may know. Facebook gives people the power to share and...\n",
      "Dec 9, 2011 · Diane Brodatz Rothenberg Diane Brodatz Rothenberg b. NYC, 1932. B.A. Queens College, 1953; Ph.D. in Anthropology, The Graduate Center of the University of the City of New …\n",
      "Jul 28, 2009 · Diane Rothenberg: On the Insanity of Cornplanter (Part One) [A professional anthropolgist & an active player in the emerging discourse around an ethnopoetics, Diane …\n",
      "FROM ETHNOPOETICS TO OMNIPOETICS Jerome and Diane Rothenberg Interviewed by John Solt and Uri Hertz The first time I encountered Jerome Rothenberg’s work was in 1964, when I saw his translation of The Deputy, Rolf Hochhuth's riveting play about the Holocaust, powerfully performed in the round at the Coast Theater in West Hollywood.\n",
      "Apr 8, 2009 · Copies of Diane Rothenberg’s book, Mothers of the Nation, in which this essay also appeared, are still available through Ta’wil Books, joris@albany.edu. Another essay, \"Corn Soup & Fry Bread,\" was posted earlier on December 5, 2008, & parts one and two of the present essay appeared on March 12 & 24.\n",
      "Dianne Rothenberg. Actress: Soon by You. Dianne Rothenberg is known for Soon by You (2015), Benefits Not Included (2019) and Divorce School.\n",
      "Jan 7, 2022 · Another essay, “Corn Soup & Fry Bread,” was posted earlier on December 5, 2008, in Poems and Poetics, and parts one and two of the present essay first appeared there in September 2014. Part Two is from Harry Watt’s oral autobiography, as recorded and transcribed by …\n",
      "Apr 19, 2016 · Diane Rothenberg is an anthropologist with a concentration in social theory and ethno-history. She is the author of Friends Like These, a historical study of Seneca-Quaker relations in the early reservation period.\n",
      "Apr 17, 2023 · 61 p. ; 23 cmAccess-restricted-item true Addeddate 2023-04-17 01:10:21 Autocrop_version 0.0.14_books-20220331-0.2 Boxid IA40893121 Camera Sony Alpha-A6300 (Control) Collection_set printdisabled External-identifier urn:lcp:mothersofnationo0000dian:epub:49f51116-c17b-4609-9e60-bc444cdd6460 …\n",
      "Retired at NYCBdofEd · Experience: NYCBdofEd · Location: New City · 2 connections on LinkedIn. View Diane Rothenberg’s profile on LinkedIn, a professional community of 1 billion members.\n",
      "Condition: Very Good. Dust Jacket Condition: Very Good. First Edition. Essays by Diane Rothenberg. Inscribed by the author to poet, Margaret Randall: \"For Meg and Barbara, great traveling companions. Hope these interest you. Love, Diane.\" The book is in very good unread condition. 62 pages. Inscribed by Author (s). Seller Inventory # 003507 ...\n",
      "Diane Rothenberg is on Facebook. Join Facebook to connect with Diane Rothenberg and others you may know. Facebook gives people the power to share and makes the world more open and connected.\n",
      "Matthew Rothenberg Steve Clay Jeffrey Robinson Al Filreis Pierre Joris Diane Rothenberg Jerome Rothenberg Charles Bernstein and Pierre Joris, hosts Video by Nicole Peyrafitte Jerome Rothenberg performing several poems Jerome Rothenberg performs several poems at his 90th birthday celebration, 12/12/21, NY. Watch on Media.SAS mirror: MP4 Video by ...\n"
     ]
    }
   ],
   "source": [
    "\n",
    "for node in nodes:\n",
    "    if node['name'] == \"Diane Rothenberg\":\n",
    "        print(node['text'])"
   ]
  },
  {
   "cell_type": "code",
   "execution_count": 49,
   "id": "182ac21d-728a-4493-8705-746089de8152",
   "metadata": {},
   "outputs": [],
   "source": [
    "\n",
    "import networkx as nx\n"
   ]
  },
  {
   "cell_type": "code",
   "execution_count": 52,
   "id": "465b85da-8bbb-4971-9722-5593a425e976",
   "metadata": {},
   "outputs": [],
   "source": [
    "\n",
    "import pickle"
   ]
  },
  {
   "cell_type": "code",
   "execution_count": 55,
   "id": "db0cd28a-21c7-4e8b-a59c-cf5ab554276e",
   "metadata": {},
   "outputs": [],
   "source": [
    "\n",
    "edges = []\n",
    "\n",
    "for i, source in enumerate(nodes):\n",
    "    for j, target in enumerate(nodes):\n",
    "        if i == j:\n",
    "            continue\n",
    "            \n",
    "        sim = float(util.cos_sim(source[\"embedding\"], target[\"embedding\"]))\n",
    "        sim_to_wild_source = float(util.cos_sim(source[\"embedding\"], wild_card_embedding))\n",
    "        sim_to_wild_target = float(util.cos_sim(target[\"embedding\"], wild_card_embedding))\n",
    "        \n",
    "        if sim >= SIMILARITY_THRESHOLD_1 and sim_to_wild_source >= sim_to_wild_target:\n",
    "            weight = 1 if source[\"name\"] == target[\"name\"] else 2\n",
    "            edges.append((source[\"id\"], target[\"id\"], {\n",
    "                \"similarity\": sim,\n",
    "                \"weight\": weight\n",
    "            }))\n",
    "\n",
    "        with open('jerry_web_searches_edges_margento_manifest_o_1.pkl', 'wb') as fp:\n",
    "            pickle.dump(edges, fp)"
   ]
  },
  {
   "cell_type": "code",
   "execution_count": 54,
   "id": "dba466a0-a35c-429b-9795-d57f78400d5a",
   "metadata": {},
   "outputs": [],
   "source": []
  },
  {
   "cell_type": "code",
   "execution_count": 56,
   "id": "095c9777-51fc-407e-9e45-35e93c9c5395",
   "metadata": {},
   "outputs": [
    {
     "name": "stdout",
     "output_type": "stream",
     "text": [
      "Graph has 435 nodes and 1212 edges.\n"
     ]
    }
   ],
   "source": [
    "\n",
    "G = nx.MultiDiGraph()\n",
    "\n",
    "for node in nodes:\n",
    "    G.add_node(node[\"id\"], text=node[\"text\"], name=node[\"name\"])\n",
    "    \n",
    "for source, target, attrs in edges:\n",
    "    G.add_edge(source, target, **attrs)\n",
    "\n",
    "print(f\"Graph has {G.number_of_nodes()} nodes and {G.number_of_edges()} edges.\")"
   ]
  },
  {
   "cell_type": "code",
   "execution_count": 57,
   "id": "85da9545-460a-48c4-a4a9-5f134ce4541a",
   "metadata": {},
   "outputs": [],
   "source": [
    "\n",
    "with open('margento_jerry_web_searches_plus_wildcard_graph.gpickle', 'wb') as f:\n",
    "    pickle.dump(G, f, pickle.HIGHEST_PROTOCOL)"
   ]
  },
  {
   "cell_type": "code",
   "execution_count": null,
   "id": "0cb28adc-f314-430f-9974-fff24baed3f5",
   "metadata": {},
   "outputs": [],
   "source": []
  }
 ],
 "metadata": {
  "kernelspec": {
   "display_name": "Python (3918project)",
   "language": "python",
   "name": "3918project"
  },
  "language_info": {
   "codemirror_mode": {
    "name": "ipython",
    "version": 3
   },
   "file_extension": ".py",
   "mimetype": "text/x-python",
   "name": "python",
   "nbconvert_exporter": "python",
   "pygments_lexer": "ipython3",
   "version": "3.9.18"
  }
 },
 "nbformat": 4,
 "nbformat_minor": 5
}
